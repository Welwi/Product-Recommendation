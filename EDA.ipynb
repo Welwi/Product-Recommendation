{
 "cells": [
  {
   "cell_type": "code",
   "execution_count": 1,
   "metadata": {},
   "outputs": [],
   "source": [
    "import pandas as pd\n",
    "import numpy as np\n",
    "import matplotlib.pyplot as plt\n",
    "\n",
    "%matplotlib inline\n",
    "\n",
    "import gc; gc.enable()\n",
    "\n",
    "from utilities import DfLowMemory"
   ]
  },
  {
   "cell_type": "code",
   "execution_count": 2,
   "metadata": {},
   "outputs": [],
   "source": [
    "df = DfLowMemory('train_ver2.csv')"
   ]
  },
  {
   "cell_type": "code",
   "execution_count": 3,
   "metadata": {},
   "outputs": [],
   "source": [
    "# ind_empleado - 27734. Employee index: A active, B ex employed, F filial, N not employee, P pasive. \n",
    "#I am noticing that there is a value that is not in the description so I believe it is a typo. \n",
    "#I tried looking more into the data but in the end I decided to drop since it is just one person.\n",
    "\n",
    "df = df[df['ind_empleado'] != 'S']"
   ]
  },
  {
   "cell_type": "code",
   "execution_count": 4,
   "metadata": {},
   "outputs": [],
   "source": [
    "# pais_residencia - 27734. One aspect that I found interesting is that customers with pais_residenciamissing had all other features missing. \n",
    "#For now I am going to drop all of them\n",
    "\n",
    "df.dropna(subset=['pais_residencia'], inplace=True)"
   ]
  },
  {
   "cell_type": "code",
   "execution_count": 5,
   "metadata": {},
   "outputs": [],
   "source": [
    "# Now there are 70 missing values for gender. The value distribution doesn't seem very different. I am going to replace them with the mode.\n",
    "df['sexo'].fillna(df['sexo'].mode()[0], inplace=True)"
   ]
  },
  {
   "cell_type": "code",
   "execution_count": 6,
   "metadata": {},
   "outputs": [],
   "source": [
    "# ult_fec_cli_1t has a lot of missing values. This represents the last day the the customer was the primary costumer.\n",
    "# Looking at the indrel_1mes column, it shows that most of the customers at the beginning of the month were the primary costumers. So \n",
    "# I am assuming that the customers with missing last date as the primary costumers are still the primary costumers. So I am going to impute \n",
    "# this with 'primary'\n",
    "# THIS NEEDS TO BE MODIFIED TO TYPE DATE\n",
    "df.loc[df['ult_fec_cli_1t'].isnull(), 'ult_fec_cli_1t'] = 'PRIMARY'"
   ]
  },
  {
   "cell_type": "code",
   "execution_count": 7,
   "metadata": {},
   "outputs": [],
   "source": [
    "# Customer type at the beginning of the month ,1 (First/Primary customer), 2 (co-owner ),P (Potential),3 (former primary), 4(former co-owner).\n",
    "# some values that were supposed to be 1 are 1.0 and for the other categories as well. So I am going to use 1,2,3,4 like in the description\n",
    "# This has been suggested by @StephenSmith\n",
    "map_dict = {'1.0' : '1',\n",
    "            '1' : '1',\n",
    "            '2' : '2',\n",
    "            '2.0' : '2',\n",
    "            '3' : '3',\n",
    "            '3.0' : '3', \n",
    "            '4' : '4',\n",
    "            '4.0' : '4'}\n",
    "\n",
    "df.indrel_1mes.fillna('P', inplace=True)\n",
    "df.indrel_1mes = df.indrel_1mes.apply(lambda x: map_dict.get(x,x))\n",
    "df.indrel_1mes = df.indrel_1mes.astype('category')"
   ]
  },
  {
   "cell_type": "code",
   "execution_count": 8,
   "metadata": {},
   "outputs": [],
   "source": [
    "# Customer relation type at the beginning of the month, A (active), I (inactive), P (former customer),R (Potential)\n",
    "# There are some described as N that doesn't fit into the column description.\n",
    "# Taking a closer look at these 4 rows and comparing them with the ind_actividad: df[df['tiprel_1mes'] == 'N'].iloc[:,8:24]\n",
    "# The ones that had ind_actividad = 1 were imputed as active and the ones that had 0 were imputed as I\n",
    "# For the nan values, there is another column named 'ind_actividad_cliente' that is 1 for active costumers and 0 for inactive. I am \n",
    "# going to use this to impute the nan values for tiprel_1mes\n",
    "\n",
    "df.loc[df['tiprel_1mes'].isnull(), 'tiprel_1mes'] = df['ind_actividad_cliente']\n",
    "\n",
    "map_tip = {1 : 'A',\n",
    "           0 : 'I'}        \n",
    "\n",
    "df.tiprel_1mes = df.tiprel_1mes.apply(lambda x: map_tip.get(x,x))\n",
    "df.loc[6603017, 'tiprel_1mes'] = 'A'\n",
    "df.loc[10123924, 'tiprel_1mes'] = 'A'\n",
    "df.loc[10124648, 'tiprel_1mes'] = 'I'\n",
    "df.loc[11247349, 'tiprel_1mes'] = 'I'\n",
    "\n",
    "df.tiprel_1mes = df.tiprel_1mes.astype('category')"
   ]
  },
  {
   "cell_type": "code",
   "execution_count": 9,
   "metadata": {},
   "outputs": [],
   "source": [
    "# conyuemp Spouse index. 1 if the customer is spouse of an employee\n",
    "# I am assuming that most customers are not spouses and I am going to impute these with the mode\n",
    "# Now there are 70 missing values for gender. The value distribution doesn't seem very different. I am going to replace them with the mode.\n",
    "df['conyuemp'].fillna(df['conyuemp'].mode()[0], inplace=True)\n",
    "df.conyuemp = df.conyuemp.astype('category')"
   ]
  },
  {
   "cell_type": "code",
   "execution_count": 10,
   "metadata": {},
   "outputs": [],
   "source": [
    "# canal_entrada. Channel used by the customer to join\n",
    "# I am going to fill the missing values with the mode\n",
    "df['canal_entrada'].fillna(df['canal_entrada'].mode()[0], inplace=True)"
   ]
  },
  {
   "cell_type": "code",
   "execution_count": 11,
   "metadata": {},
   "outputs": [],
   "source": [
    "# tipodom. Addres type. 1, primary address. It is only 1 value missing so I am just going to replace it with the mode\n",
    "df['tipodom'].fillna(df['tipodom'].mode()[0], inplace=True)"
   ]
  },
  {
   "cell_type": "code",
   "execution_count": 12,
   "metadata": {},
   "outputs": [],
   "source": [
    "# cod_prov. Province code (customer's address)\n",
    "# nomprov. Province name. \n",
    "# These two have the same number of missing values. I am going to replace these with unknow\n",
    "# THESE IS SUGGESTED BY ALAN PRYOR\n",
    "\n",
    "for c in ['cod_prov', 'nomprov']:\n",
    "    df.loc[df[c].isnull(), c ] = 'UNKOWN'"
   ]
  },
  {
   "cell_type": "code",
   "execution_count": 13,
   "metadata": {},
   "outputs": [],
   "source": [
    "# Renta. Gross income of the household. I am going to replace the missing values with the mean salary per providence. \n",
    "\n",
    "salaries = dict(df.groupby('nomprov')['renta'].mean().round(0))\n",
    "df.loc[df['renta'].isnull(), 'renta'] = df['nomprov']\n",
    "df.renta = df.renta.apply(lambda x: salaries.get(x,x))"
   ]
  },
  {
   "cell_type": "code",
   "execution_count": 15,
   "metadata": {},
   "outputs": [],
   "source": [
    "# Segmento. segmentation: 01 - VIP, 02 - Individuals 03 - college graduated\n",
    "for c in ['segmento']:\n",
    "    df.loc[df[c].isnull(), c ] = 'UNKOWN'"
   ]
  },
  {
   "cell_type": "code",
   "execution_count": 21,
   "metadata": {},
   "outputs": [],
   "source": [
    "df['ind_nomina_ult1'].fillna(df['ind_nomina_ult1'].mode()[0], inplace=True)"
   ]
  },
  {
   "cell_type": "code",
   "execution_count": 22,
   "metadata": {},
   "outputs": [],
   "source": [
    "df['ind_nom_pens_ult1'].fillna(df['ind_nom_pens_ult1'].mode()[0], inplace=True)"
   ]
  },
  {
   "cell_type": "code",
   "execution_count": 24,
   "metadata": {},
   "outputs": [],
   "source": [
    "df['fecha_dato'] = pd.to_datetime(df['fecha_dato'], format=\"%Y-%m-%d\")\n",
    "df['fecha_alta'] = pd.to_datetime(df['fecha_alta'], format=\"%Y-%m-%d\")"
   ]
  },
  {
   "cell_type": "code",
   "execution_count": 31,
   "metadata": {},
   "outputs": [],
   "source": [
    "df.loc[df['antiguedad'] == '-999999', 'antiguedad'] = 'UNKNOWN'"
   ]
  },
  {
   "cell_type": "markdown",
   "metadata": {},
   "source": [
    "# Missing values and action plan\n",
    "\n",
    "ind_empleado - 27734. Employee index: A active, B ex employed, F filial, N not employee, P pasive. I am noticing that there is a value that is not in the description so I believe it is a typo. I tried looking more into the data but in the end I decided to drop since it is just one person. The nan values I am replacing with the mode which in this case it is that the person is not an employee.\n",
    "\n",
    "df = df[df['ind_empleado'] != 'S']\n",
    "\n",
    "-------------------------------------------------------\n",
    "pais_residencia - 27734. One aspect that I found interesting is that customers with pais_residenciamissing had all other features missing. For now I am going to drop all of them\n",
    "\n",
    "filtered_df = df[df['pais_residencia'].isnull()]\n",
    "len(filtered_df['ncodpers'].unique())\n",
    "This shows that there are 7340 without much information about them\n",
    "\n",
    "-------------------------------------------------------\n",
    "sexo - 27804. Most of the clients that have this information missing dont have much information on them overall. If we were to drop the ones that have most information missing, sexo would have about 70 values missing. For now I am going to change these with the mode.\n",
    "\n",
    "-------------------------------------------------------\n",
    "I need to turn fecha_dato and fecha_alta into dates\n",
    "\n",
    "fecha_alta - 27734. This is the date that the customer joined the bank.\n",
    "Added another column called month. May be useful in the case that some customers buy more depending on the time of the year.\n",
    "\n",
    "-------------------------------------------------------\n",
    "ult_fec_cli_1t - 13622516. This is the last date as a primary customer.\n",
    "indrel_1mes                149781\n",
    "tiprel_1mes                149781\n",
    "indresi                     27734\n",
    "indext                      27734\n",
    "conyuemp                 13645501\n",
    "canal_entrada              186126\n",
    "indfall                     27734\n",
    "tipodom                     27735\n",
    "cod_prov                    93591\n",
    "nomprov                     93591\n",
    "ind_actividad_cliente       27734\n",
    "renta                     2794375\n",
    "segmento                   189368\n",
    "ind_nomina_ult1             16063\n",
    "ind_nom_pens_ult1           16063\n",
    "\n",
    "\n",
    "-------------------------------------------------------\n",
    "A bank guarantee is a lending institution's promise to cover a loss if a borrower (their customer) defaults on a debt to a third party. \n",
    "\n",
    "A payroll account is a separate bank account for your business that is strictly used for payroll. Instead of lumping all your business expenses into one account, you will pay employee wages with your payroll bank account. The money going into the payroll account will only be used for payroll.\n",
    "\n",
    "Bank policy requires that account owners be the legal age of 18 in order to open an account online. If you are not 18 years old, you may open an account for minors with your parent or legal guardian as the joint account holder.\n",
    "\n",
    "A pension plan is a type of retirement plan where an employee adds money into a fund that includes contributions by the employer.\n",
    "\n",
    "A securities account sometimes known as a brokerage account is an account that holds financial assets such as securities on behalf of an investor with a bank, broker or custodian."
   ]
  },
  {
   "cell_type": "code",
   "execution_count": 35,
   "metadata": {},
   "outputs": [],
   "source": [
    "used_cols = [c for c in df.columns.tolist() if c not in ['ind_ahor_fin_ult1', 'ind_aval_fin_ult1', 'ind_cco_fin_ult1', 'ind_cder_fin_ult1', 'ind_cno_fin_ult1', 'ind_ctju_fin_ult1', 'ind_ctma_fin_ult1',\n",
    " 'ind_ctop_fin_ult1', 'ind_ctpp_fin_ult1', 'ind_deco_fin_ult1', 'ind_deme_fin_ult1', 'ind_dela_fin_ult1', 'ind_ecue_fin_ult1', 'ind_fond_fin_ult1',\n",
    " 'ind_hip_fin_ult1', 'ind_plan_fin_ult1', 'ind_pres_fin_ult1', 'ind_reca_fin_ult1', 'ind_tjcr_fin_ult1', 'ind_valo_fin_ult1', 'ind_viv_fin_ult1',\n",
    " 'ind_nomina_ult1', 'ind_nom_pens_ult1', 'ind_recibo_ult1']]"
   ]
  },
  {
   "cell_type": "markdown",
   "metadata": {},
   "source": [
    "## Feature Engineering"
   ]
  },
  {
   "cell_type": "code",
   "execution_count": null,
   "metadata": {},
   "outputs": [],
   "source": []
  },
  {
   "cell_type": "code",
   "execution_count": 32,
   "metadata": {},
   "outputs": [
    {
     "data": {
      "text/plain": [
       "array(['      6', '     35', '     34', '     33', '     31', '     21',\n",
       "       '     16', '     27', '      9', '     22', '     13', '     29',\n",
       "       '      8', '     11', '     10', '     28', '     24', '      7',\n",
       "       '     25', '     14', '     26', '     12', '     23', '      1',\n",
       "       '     18', '      4', '      3', '     17', '     32', '     30',\n",
       "       '     20', '     15', '     19', '    157', '     36', '      5',\n",
       "       '     40', '     38', '     37', '     39', '      0', '      2',\n",
       "       '     47', '     44', '     42', '     46', '     45', '     43',\n",
       "       '     41', '     57', '     48', '     52', '     49', '     50',\n",
       "       '     56', '     58', '     51', '     55', '     54', '     53',\n",
       "       '     59', '     62', '     61', '     60', '     63', '    139',\n",
       "       '    165', '    118', '    164', '    142', '     94', '    159',\n",
       "       '    143', '    105', '    151', '    162', '    137', '    150',\n",
       "       '    128', '    122', '    156', '    119', '    160', '     79',\n",
       "       '     95', '    132', '    161', '     98', '    127', '     72',\n",
       "       '    155', '    108', '    163', '    102', '    148', '    115',\n",
       "       '    146', '    107', '     81', '    216', '    135', '     92',\n",
       "       '    121', '    198', '    134', '     93', '    140', '    110',\n",
       "       '    120', '    147', '    116', '     64', '     77', '     85',\n",
       "       '     99', '     78', '    100', '    113', '    154', '    166',\n",
       "       '    133', '    124', '    141', '     66', '    117', '     86',\n",
       "       '    193', '     80', '    144', '     87', '    126', '    158',\n",
       "       '    101', '    235', '     88', '    145', '    103', '    149',\n",
       "       '    109', '    131', '     97', '     68', '     84', '    232',\n",
       "       '    125', '    177', '    112', '     96', '     69', '    171',\n",
       "       '    167', '    104', '     76', '     82', '    152', '     70',\n",
       "       '    138', '    169', '     65', '    129', '    190', '    114',\n",
       "       '    111', '    176', '    153', '     89', '    136', '     83',\n",
       "       '    123', '    187', '    106', '    231', '    189', '    217',\n",
       "       '    172', '    199', '    173', '    174', '    209', '    180',\n",
       "       '    178', '     91', '    168', '    130', '    225', '     67',\n",
       "       '     73', '    183', '     74', '    206', '     71', '    179',\n",
       "       '    184', '    192', '     90', '    194', '    182', '    188',\n",
       "       '    213', '    185', '    195', '    186', '    207', '    208',\n",
       "       '     75', '    175', '    201', '    203', '    212', '    215',\n",
       "       '    170', '    228', '    214', '    202', '    196', '    181',\n",
       "       '    211', '    191', '    205', '    200', '    227', '    218',\n",
       "       '    219', '    226', '    224', '    210', '    242', '    223',\n",
       "       '    237', '    204', '    233', '    220', '    222', '    241',\n",
       "       '    197', '    221', '    229', '    234', '    240', '    243',\n",
       "       '    230', '    238', '    246', '    236', '    244', '    239',\n",
       "       '    245', 'UNKNOWN', '    247', '    248', '    249', '    250',\n",
       "       '    251', '    252', '    253', '    254', '    255', '    256'],\n",
       "      dtype=object)"
      ]
     },
     "execution_count": 32,
     "metadata": {},
     "output_type": "execute_result"
    }
   ],
   "source": [
    "df['antiguedad'].unique()"
   ]
  },
  {
   "cell_type": "code",
   "execution_count": 28,
   "metadata": {},
   "outputs": [
    {
     "data": {
      "text/html": [
       "<div>\n",
       "<style scoped>\n",
       "    .dataframe tbody tr th:only-of-type {\n",
       "        vertical-align: middle;\n",
       "    }\n",
       "\n",
       "    .dataframe tbody tr th {\n",
       "        vertical-align: top;\n",
       "    }\n",
       "\n",
       "    .dataframe thead th {\n",
       "        text-align: right;\n",
       "    }\n",
       "</style>\n",
       "<table border=\"1\" class=\"dataframe\">\n",
       "  <thead>\n",
       "    <tr style=\"text-align: right;\">\n",
       "      <th></th>\n",
       "      <th>fecha_dato</th>\n",
       "      <th>ncodpers</th>\n",
       "      <th>ind_empleado</th>\n",
       "      <th>pais_residencia</th>\n",
       "      <th>sexo</th>\n",
       "      <th>age</th>\n",
       "      <th>fecha_alta</th>\n",
       "      <th>ind_nuevo</th>\n",
       "      <th>antiguedad</th>\n",
       "      <th>indrel</th>\n",
       "      <th>...</th>\n",
       "      <th>ind_hip_fin_ult1</th>\n",
       "      <th>ind_plan_fin_ult1</th>\n",
       "      <th>ind_pres_fin_ult1</th>\n",
       "      <th>ind_reca_fin_ult1</th>\n",
       "      <th>ind_tjcr_fin_ult1</th>\n",
       "      <th>ind_valo_fin_ult1</th>\n",
       "      <th>ind_viv_fin_ult1</th>\n",
       "      <th>ind_nomina_ult1</th>\n",
       "      <th>ind_nom_pens_ult1</th>\n",
       "      <th>ind_recibo_ult1</th>\n",
       "    </tr>\n",
       "  </thead>\n",
       "  <tbody>\n",
       "  </tbody>\n",
       "</table>\n",
       "<p>0 rows × 48 columns</p>\n",
       "</div>"
      ],
      "text/plain": [
       "Empty DataFrame\n",
       "Columns: [fecha_dato, ncodpers, ind_empleado, pais_residencia, sexo, age, fecha_alta, ind_nuevo, antiguedad, indrel, ult_fec_cli_1t, indrel_1mes, tiprel_1mes, indresi, indext, conyuemp, canal_entrada, indfall, tipodom, cod_prov, nomprov, ind_actividad_cliente, renta, segmento, ind_ahor_fin_ult1, ind_aval_fin_ult1, ind_cco_fin_ult1, ind_cder_fin_ult1, ind_cno_fin_ult1, ind_ctju_fin_ult1, ind_ctma_fin_ult1, ind_ctop_fin_ult1, ind_ctpp_fin_ult1, ind_deco_fin_ult1, ind_deme_fin_ult1, ind_dela_fin_ult1, ind_ecue_fin_ult1, ind_fond_fin_ult1, ind_hip_fin_ult1, ind_plan_fin_ult1, ind_pres_fin_ult1, ind_reca_fin_ult1, ind_tjcr_fin_ult1, ind_valo_fin_ult1, ind_viv_fin_ult1, ind_nomina_ult1, ind_nom_pens_ult1, ind_recibo_ult1]\n",
       "Index: []\n",
       "\n",
       "[0 rows x 48 columns]"
      ]
     },
     "execution_count": 28,
     "metadata": {},
     "output_type": "execute_result"
    }
   ],
   "source": [
    "df[df['antiguedad'] == -999999]"
   ]
  },
  {
   "cell_type": "code",
   "execution_count": null,
   "metadata": {},
   "outputs": [],
   "source": []
  }
 ],
 "metadata": {
  "kernelspec": {
   "display_name": "Python 3",
   "language": "python",
   "name": "python3"
  },
  "language_info": {
   "codemirror_mode": {
    "name": "ipython",
    "version": 3
   },
   "file_extension": ".py",
   "mimetype": "text/x-python",
   "name": "python",
   "nbconvert_exporter": "python",
   "pygments_lexer": "ipython3",
   "version": "3.7.3"
  }
 },
 "nbformat": 4,
 "nbformat_minor": 4
}
