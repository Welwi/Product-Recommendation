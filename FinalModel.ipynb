{
 "cells": [
  {
   "cell_type": "code",
   "execution_count": 1,
   "metadata": {},
   "outputs": [],
   "source": [
    "import pandas as pd\n",
    "import numpy as np\n",
    "import matplotlib.pyplot as plt\n",
    "import seaborn as sns\n",
    "\n",
    "%matplotlib inline\n",
    "\n",
    "import gc; gc.enable()\n",
    "\n",
    "from utilities import DfLowMemory, DfLowMemoryTest\n",
    "from utilities import CleanData, CleanTestData\n",
    "\n",
    "from sklearn.preprocessing import MinMaxScaler, OneHotEncoder\n",
    "from category_encoders import WOEEncoder, TargetEncoder\n",
    "from xgboost import XGBClassifier\n",
    "from imxgboost.imbalance_xgb import imbalance_xgboost as imb_xgb\n",
    "\n",
    "from sklearn.model_selection import train_test_split, cross_val_score\n",
    "from sklearn.metrics import classification_report\n",
    "from sklearn import metrics\n",
    "from sklearn.metrics import roc_auc_score\n",
    "from sklearn.linear_model import LogisticRegression\n",
    "\n",
    "from collections import defaultdict\n",
    "\n",
    "import warnings\n",
    "warnings.filterwarnings('ignore')"
   ]
  },
  {
   "cell_type": "code",
   "execution_count": 2,
   "metadata": {},
   "outputs": [],
   "source": [
    "df_train = DfLowMemory('train_ver2.csv')"
   ]
  },
  {
   "cell_type": "code",
   "execution_count": 3,
   "metadata": {},
   "outputs": [],
   "source": [
    "df_train = CleanData(df_train)"
   ]
  },
  {
   "cell_type": "code",
   "execution_count": 4,
   "metadata": {},
   "outputs": [],
   "source": [
    "df_test = pd.read_csv('test_data.csv')"
   ]
  },
  {
   "cell_type": "code",
   "execution_count": 5,
   "metadata": {},
   "outputs": [],
   "source": [
    "df_test = CleanTestData(df_test)"
   ]
  },
  {
   "cell_type": "code",
   "execution_count": 6,
   "metadata": {},
   "outputs": [],
   "source": [
    "df_train_may15 = df_train[df_train['fecha_dato'] == '2015-05-28']\n",
    "df_train_June15 = df_train[df_train['fecha_dato'] == '2015-06-28']\n",
    "df_train_may16 = df_train[df_train['fecha_dato'] == '2016-05-28']"
   ]
  },
  {
   "cell_type": "code",
   "execution_count": 7,
   "metadata": {},
   "outputs": [],
   "source": [
    "df = pd.concat([df_train_may15, df_train_June15, df_train_may16])"
   ]
  },
  {
   "cell_type": "code",
   "execution_count": 8,
   "metadata": {},
   "outputs": [],
   "source": [
    "df.drop_duplicates(subset='ncodpers',keep='last', inplace=True)"
   ]
  },
  {
   "cell_type": "code",
   "execution_count": 9,
   "metadata": {},
   "outputs": [],
   "source": [
    "targets = [c for c in df.columns.tolist() if '_ult1' in c]"
   ]
  },
  {
   "cell_type": "code",
   "execution_count": 14,
   "metadata": {},
   "outputs": [],
   "source": [
    "used_cols = [c for c in df.columns.tolist() if c not in ['ncodpers', 'fecha_dato', 'fecha_alta',\n",
    "'ind_ahor_fin_ult1','ind_aval_fin_ult1','ind_cco_fin_ult1','ind_cder_fin_ult1','ind_cno_fin_ult1','ind_ctju_fin_ult1','ind_ctma_fin_ult1',\n",
    " 'ind_ctop_fin_ult1','ind_ctpp_fin_ult1','ind_deco_fin_ult1','ind_deme_fin_ult1','ind_dela_fin_ult1','ind_ecue_fin_ult1','ind_fond_fin_ult1',\n",
    " 'ind_hip_fin_ult1','ind_plan_fin_ult1','ind_pres_fin_ult1','ind_reca_fin_ult1','ind_tjcr_fin_ult1','ind_valo_fin_ult1','ind_viv_fin_ult1',\n",
    " 'ind_nomina_ult1', 'ind_nom_pens_ult1','ind_recibo_ult1']]"
   ]
  },
  {
   "cell_type": "code",
   "execution_count": 17,
   "metadata": {},
   "outputs": [],
   "source": [
    "used_test_cols = used_cols = [c for c in df_test.columns.tolist() if c not in ['ncodpers', 'fecha_dato', 'fecha_alta']]"
   ]
  },
  {
   "cell_type": "markdown",
   "metadata": {},
   "source": [
    "## Model Training"
   ]
  },
  {
   "cell_type": "code",
   "execution_count": 22,
   "metadata": {},
   "outputs": [],
   "source": [
    "id_preds = defaultdict(list)\n",
    "ids = df_test['ncodpers'].values"
   ]
  },
  {
   "cell_type": "code",
   "execution_count": 24,
   "metadata": {},
   "outputs": [
    {
     "name": "stdout",
     "output_type": "stream",
     "text": [
      "it1\n",
      "it1\n",
      "it1\n",
      "it1\n",
      "it1\n",
      "it1\n",
      "it1\n",
      "it1\n",
      "it1\n",
      "it1\n",
      "it1\n",
      "it1\n",
      "it1\n",
      "it1\n",
      "it1\n",
      "it1\n",
      "it1\n",
      "it1\n",
      "it1\n",
      "it1\n",
      "it1\n",
      "it1\n",
      "it1\n",
      "it1\n"
     ]
    }
   ],
   "source": [
    "for target in targets:\n",
    "    X = df[used_cols].values\n",
    "    y = df[target]\n",
    "\n",
    "    encoder = TargetEncoder()\n",
    "    X = encoder.fit_transform(X, y)\n",
    "    model = imb_xgb(special_objective='focal', focal_gamma=2.0)\n",
    "    model.fit(X.values, y.values)\n",
    "    \n",
    "    X_test = df[used_test_cols].values\n",
    "    X_test = encoder.transform(X_test)\n",
    "    \n",
    "    y_pred = model.predict_sigmoid(X_test.values)\n",
    "    \n",
    "    for i, cust_id in enumerate(ids):\n",
    "        id_preds[cust_id].append(y_pred[i])"
   ]
  },
  {
   "cell_type": "code",
   "execution_count": 178,
   "metadata": {},
   "outputs": [],
   "source": [
    "trial = dict(id_preds)"
   ]
  },
  {
   "cell_type": "code",
   "execution_count": 179,
   "metadata": {},
   "outputs": [],
   "source": [
    "list_of_prods = {}\n",
    "\n",
    "for customer in trial.keys():\n",
    "    list_of_prods[customer] = np.argsort(trial[customer])"
   ]
  },
  {
   "cell_type": "code",
   "execution_count": 224,
   "metadata": {},
   "outputs": [],
   "source": [
    "target_dict = {}\n",
    "for i, target in enumerate(targets):\n",
    "    #target_dict[target] = i\n",
    "     target_dict[i] = target\n",
    "    "
   ]
  },
  {
   "cell_type": "code",
   "execution_count": 226,
   "metadata": {},
   "outputs": [],
   "source": [
    "target_dict_names = {}\n",
    "\n",
    "for i, target in enumerate(target_names):\n",
    "     target_dict_names[i] = target"
   ]
  },
  {
   "cell_type": "code",
   "execution_count": 225,
   "metadata": {},
   "outputs": [],
   "source": [
    "target_names = ['Saving Account', 'Guarantees', 'Current Accounts', 'Derivada Account', 'Payroll Account', 'Junior Account',\n",
    "               'More Popular Account', 'Particular Account', 'Particular Plus Account', 'Short-term deposits',\n",
    "               'Medium-term deposits', 'Long-term deposits', 'e-account', 'Funds', 'Mortgage', 'Pensions', 'Loans', 'Taxes',\n",
    "               'Credit Card', 'Securities', 'Home Account', 'Payroll', 'Pensions2', 'Direct Debit']"
   ]
  },
  {
   "cell_type": "code",
   "execution_count": 155,
   "metadata": {},
   "outputs": [
    {
     "data": {
      "text/plain": [
       "7268"
      ]
     },
     "execution_count": 155,
     "metadata": {},
     "output_type": "execute_result"
    }
   ],
   "source": [
    "gc.collect()"
   ]
  },
  {
   "cell_type": "code",
   "execution_count": 195,
   "metadata": {},
   "outputs": [
    {
     "data": {
      "text/html": [
       "<div>\n",
       "<style scoped>\n",
       "    .dataframe tbody tr th:only-of-type {\n",
       "        vertical-align: middle;\n",
       "    }\n",
       "\n",
       "    .dataframe tbody tr th {\n",
       "        vertical-align: top;\n",
       "    }\n",
       "\n",
       "    .dataframe thead th {\n",
       "        text-align: right;\n",
       "    }\n",
       "</style>\n",
       "<table border=\"1\" class=\"dataframe\">\n",
       "  <thead>\n",
       "    <tr style=\"text-align: right;\">\n",
       "      <th></th>\n",
       "      <th>user</th>\n",
       "    </tr>\n",
       "  </thead>\n",
       "  <tbody>\n",
       "    <tr>\n",
       "      <th>0</th>\n",
       "      <td>15889</td>\n",
       "    </tr>\n",
       "    <tr>\n",
       "      <th>1</th>\n",
       "      <td>1170544</td>\n",
       "    </tr>\n",
       "    <tr>\n",
       "      <th>2</th>\n",
       "      <td>1170545</td>\n",
       "    </tr>\n",
       "    <tr>\n",
       "      <th>3</th>\n",
       "      <td>1170547</td>\n",
       "    </tr>\n",
       "    <tr>\n",
       "      <th>4</th>\n",
       "      <td>1170548</td>\n",
       "    </tr>\n",
       "  </tbody>\n",
       "</table>\n",
       "</div>"
      ],
      "text/plain": [
       "      user\n",
       "0    15889\n",
       "1  1170544\n",
       "2  1170545\n",
       "3  1170547\n",
       "4  1170548"
      ]
     },
     "execution_count": 195,
     "metadata": {},
     "output_type": "execute_result"
    }
   ],
   "source": [
    "user_frame = pd.DataFrame(list(list_of_prods), columns=['user'])\n",
    "user_frame.head()"
   ]
  },
  {
   "cell_type": "code",
   "execution_count": 196,
   "metadata": {},
   "outputs": [
    {
     "data": {
      "text/html": [
       "<div>\n",
       "<style scoped>\n",
       "    .dataframe tbody tr th:only-of-type {\n",
       "        vertical-align: middle;\n",
       "    }\n",
       "\n",
       "    .dataframe tbody tr th {\n",
       "        vertical-align: top;\n",
       "    }\n",
       "\n",
       "    .dataframe thead th {\n",
       "        text-align: right;\n",
       "    }\n",
       "</style>\n",
       "<table border=\"1\" class=\"dataframe\">\n",
       "  <thead>\n",
       "    <tr style=\"text-align: right;\">\n",
       "      <th></th>\n",
       "      <th>user</th>\n",
       "      <th>prods</th>\n",
       "    </tr>\n",
       "  </thead>\n",
       "  <tbody>\n",
       "    <tr>\n",
       "      <th>0</th>\n",
       "      <td>15889</td>\n",
       "      <td>[14, 1, 10, 5, 9, 11, 15, 0, 22, 21, 3, 18, 13...</td>\n",
       "    </tr>\n",
       "    <tr>\n",
       "      <th>1</th>\n",
       "      <td>1170544</td>\n",
       "      <td>[14, 1, 10, 5, 8, 20, 15, 0, 19, 22, 3, 13, 16...</td>\n",
       "    </tr>\n",
       "    <tr>\n",
       "      <th>2</th>\n",
       "      <td>1170545</td>\n",
       "      <td>[1, 5, 0, 3, 14, 10, 7, 8, 20, 16, 13, 15, 11,...</td>\n",
       "    </tr>\n",
       "    <tr>\n",
       "      <th>3</th>\n",
       "      <td>1170547</td>\n",
       "      <td>[14, 1, 10, 5, 9, 11, 15, 0, 22, 21, 3, 13, 18...</td>\n",
       "    </tr>\n",
       "    <tr>\n",
       "      <th>4</th>\n",
       "      <td>1170548</td>\n",
       "      <td>[14, 1, 10, 5, 9, 11, 15, 0, 22, 21, 3, 13, 18...</td>\n",
       "    </tr>\n",
       "  </tbody>\n",
       "</table>\n",
       "</div>"
      ],
      "text/plain": [
       "      user                                              prods\n",
       "0    15889  [14, 1, 10, 5, 9, 11, 15, 0, 22, 21, 3, 18, 13...\n",
       "1  1170544  [14, 1, 10, 5, 8, 20, 15, 0, 19, 22, 3, 13, 16...\n",
       "2  1170545  [1, 5, 0, 3, 14, 10, 7, 8, 20, 16, 13, 15, 11,...\n",
       "3  1170547  [14, 1, 10, 5, 9, 11, 15, 0, 22, 21, 3, 13, 18...\n",
       "4  1170548  [14, 1, 10, 5, 9, 11, 15, 0, 22, 21, 3, 13, 18..."
      ]
     },
     "execution_count": 196,
     "metadata": {},
     "output_type": "execute_result"
    }
   ],
   "source": [
    "user_frame['prods'] = user_frame['user'].map(list_of_prods)\n",
    "user_frame.head()"
   ]
  },
  {
   "cell_type": "code",
   "execution_count": 228,
   "metadata": {},
   "outputs": [],
   "source": [
    "trial_frame = user_frame[:100000]"
   ]
  },
  {
   "cell_type": "code",
   "execution_count": 229,
   "metadata": {},
   "outputs": [],
   "source": [
    "a = trial_frame['prods'].apply(lambda x: pd.Series(x).map(target_dict_names))"
   ]
  },
  {
   "cell_type": "code",
   "execution_count": 230,
   "metadata": {},
   "outputs": [],
   "source": [
    "a['user_id'] = user_frame['user'][:100000]"
   ]
  },
  {
   "cell_type": "code",
   "execution_count": 231,
   "metadata": {},
   "outputs": [],
   "source": [
    "cols = list(a)\n",
    "# move the column to head of list using index, pop and insert\n",
    "cols.insert(0, cols.pop(cols.index('user_id')))\n",
    "a = a.ix[:, cols]"
   ]
  },
  {
   "cell_type": "code",
   "execution_count": 233,
   "metadata": {},
   "outputs": [
    {
     "data": {
      "text/html": [
       "<div>\n",
       "<style scoped>\n",
       "    .dataframe tbody tr th:only-of-type {\n",
       "        vertical-align: middle;\n",
       "    }\n",
       "\n",
       "    .dataframe tbody tr th {\n",
       "        vertical-align: top;\n",
       "    }\n",
       "\n",
       "    .dataframe thead th {\n",
       "        text-align: right;\n",
       "    }\n",
       "</style>\n",
       "<table border=\"1\" class=\"dataframe\">\n",
       "  <thead>\n",
       "    <tr style=\"text-align: right;\">\n",
       "      <th></th>\n",
       "      <th>user_id</th>\n",
       "      <th>0</th>\n",
       "      <th>1</th>\n",
       "      <th>2</th>\n",
       "      <th>3</th>\n",
       "      <th>4</th>\n",
       "      <th>5</th>\n",
       "      <th>6</th>\n",
       "      <th>7</th>\n",
       "      <th>8</th>\n",
       "      <th>...</th>\n",
       "      <th>14</th>\n",
       "      <th>15</th>\n",
       "      <th>16</th>\n",
       "      <th>17</th>\n",
       "      <th>18</th>\n",
       "      <th>19</th>\n",
       "      <th>20</th>\n",
       "      <th>21</th>\n",
       "      <th>22</th>\n",
       "      <th>23</th>\n",
       "    </tr>\n",
       "  </thead>\n",
       "  <tbody>\n",
       "    <tr>\n",
       "      <th>0</th>\n",
       "      <td>15889</td>\n",
       "      <td>Mortgage</td>\n",
       "      <td>Guarantees</td>\n",
       "      <td>Medium-term deposits</td>\n",
       "      <td>Junior Account</td>\n",
       "      <td>Short-term deposits</td>\n",
       "      <td>Long-term deposits</td>\n",
       "      <td>Pensions</td>\n",
       "      <td>Saving Account</td>\n",
       "      <td>Pensions2</td>\n",
       "      <td>...</td>\n",
       "      <td>Securities</td>\n",
       "      <td>Loans</td>\n",
       "      <td>Payroll Account</td>\n",
       "      <td>Home Account</td>\n",
       "      <td>More Popular Account</td>\n",
       "      <td>Taxes</td>\n",
       "      <td>e-account</td>\n",
       "      <td>Particular Plus Account</td>\n",
       "      <td>Particular Account</td>\n",
       "      <td>Current Accounts</td>\n",
       "    </tr>\n",
       "    <tr>\n",
       "      <th>1</th>\n",
       "      <td>1170544</td>\n",
       "      <td>Mortgage</td>\n",
       "      <td>Guarantees</td>\n",
       "      <td>Medium-term deposits</td>\n",
       "      <td>Junior Account</td>\n",
       "      <td>Particular Plus Account</td>\n",
       "      <td>Home Account</td>\n",
       "      <td>Pensions</td>\n",
       "      <td>Saving Account</td>\n",
       "      <td>Securities</td>\n",
       "      <td>...</td>\n",
       "      <td>Particular Account</td>\n",
       "      <td>Taxes</td>\n",
       "      <td>Long-term deposits</td>\n",
       "      <td>Payroll</td>\n",
       "      <td>More Popular Account</td>\n",
       "      <td>e-account</td>\n",
       "      <td>Payroll Account</td>\n",
       "      <td>Direct Debit</td>\n",
       "      <td>Short-term deposits</td>\n",
       "      <td>Current Accounts</td>\n",
       "    </tr>\n",
       "    <tr>\n",
       "      <th>2</th>\n",
       "      <td>1170545</td>\n",
       "      <td>Guarantees</td>\n",
       "      <td>Junior Account</td>\n",
       "      <td>Saving Account</td>\n",
       "      <td>Derivada Account</td>\n",
       "      <td>Mortgage</td>\n",
       "      <td>Medium-term deposits</td>\n",
       "      <td>Particular Account</td>\n",
       "      <td>Particular Plus Account</td>\n",
       "      <td>Home Account</td>\n",
       "      <td>...</td>\n",
       "      <td>Credit Card</td>\n",
       "      <td>Taxes</td>\n",
       "      <td>Securities</td>\n",
       "      <td>e-account</td>\n",
       "      <td>More Popular Account</td>\n",
       "      <td>Payroll</td>\n",
       "      <td>Pensions2</td>\n",
       "      <td>Payroll Account</td>\n",
       "      <td>Direct Debit</td>\n",
       "      <td>Current Accounts</td>\n",
       "    </tr>\n",
       "    <tr>\n",
       "      <th>3</th>\n",
       "      <td>1170547</td>\n",
       "      <td>Mortgage</td>\n",
       "      <td>Guarantees</td>\n",
       "      <td>Medium-term deposits</td>\n",
       "      <td>Junior Account</td>\n",
       "      <td>Short-term deposits</td>\n",
       "      <td>Long-term deposits</td>\n",
       "      <td>Pensions</td>\n",
       "      <td>Saving Account</td>\n",
       "      <td>Pensions2</td>\n",
       "      <td>...</td>\n",
       "      <td>Securities</td>\n",
       "      <td>Loans</td>\n",
       "      <td>Payroll Account</td>\n",
       "      <td>Home Account</td>\n",
       "      <td>More Popular Account</td>\n",
       "      <td>Taxes</td>\n",
       "      <td>e-account</td>\n",
       "      <td>Particular Plus Account</td>\n",
       "      <td>Particular Account</td>\n",
       "      <td>Current Accounts</td>\n",
       "    </tr>\n",
       "    <tr>\n",
       "      <th>4</th>\n",
       "      <td>1170548</td>\n",
       "      <td>Mortgage</td>\n",
       "      <td>Guarantees</td>\n",
       "      <td>Medium-term deposits</td>\n",
       "      <td>Junior Account</td>\n",
       "      <td>Short-term deposits</td>\n",
       "      <td>Long-term deposits</td>\n",
       "      <td>Pensions</td>\n",
       "      <td>Saving Account</td>\n",
       "      <td>Pensions2</td>\n",
       "      <td>...</td>\n",
       "      <td>Securities</td>\n",
       "      <td>Loans</td>\n",
       "      <td>Payroll Account</td>\n",
       "      <td>Home Account</td>\n",
       "      <td>More Popular Account</td>\n",
       "      <td>Taxes</td>\n",
       "      <td>Particular Plus Account</td>\n",
       "      <td>e-account</td>\n",
       "      <td>Particular Account</td>\n",
       "      <td>Current Accounts</td>\n",
       "    </tr>\n",
       "  </tbody>\n",
       "</table>\n",
       "<p>5 rows × 25 columns</p>\n",
       "</div>"
      ],
      "text/plain": [
       "   user_id           0               1                     2  \\\n",
       "0    15889    Mortgage      Guarantees  Medium-term deposits   \n",
       "1  1170544    Mortgage      Guarantees  Medium-term deposits   \n",
       "2  1170545  Guarantees  Junior Account        Saving Account   \n",
       "3  1170547    Mortgage      Guarantees  Medium-term deposits   \n",
       "4  1170548    Mortgage      Guarantees  Medium-term deposits   \n",
       "\n",
       "                  3                        4                     5  \\\n",
       "0    Junior Account      Short-term deposits    Long-term deposits   \n",
       "1    Junior Account  Particular Plus Account          Home Account   \n",
       "2  Derivada Account                 Mortgage  Medium-term deposits   \n",
       "3    Junior Account      Short-term deposits    Long-term deposits   \n",
       "4    Junior Account      Short-term deposits    Long-term deposits   \n",
       "\n",
       "                    6                        7             8  ...  \\\n",
       "0            Pensions           Saving Account     Pensions2  ...   \n",
       "1            Pensions           Saving Account    Securities  ...   \n",
       "2  Particular Account  Particular Plus Account  Home Account  ...   \n",
       "3            Pensions           Saving Account     Pensions2  ...   \n",
       "4            Pensions           Saving Account     Pensions2  ...   \n",
       "\n",
       "                   14     15                  16            17  \\\n",
       "0          Securities  Loans     Payroll Account  Home Account   \n",
       "1  Particular Account  Taxes  Long-term deposits       Payroll   \n",
       "2         Credit Card  Taxes          Securities     e-account   \n",
       "3          Securities  Loans     Payroll Account  Home Account   \n",
       "4          Securities  Loans     Payroll Account  Home Account   \n",
       "\n",
       "                     18         19                       20  \\\n",
       "0  More Popular Account      Taxes                e-account   \n",
       "1  More Popular Account  e-account          Payroll Account   \n",
       "2  More Popular Account    Payroll                Pensions2   \n",
       "3  More Popular Account      Taxes                e-account   \n",
       "4  More Popular Account      Taxes  Particular Plus Account   \n",
       "\n",
       "                        21                   22                23  \n",
       "0  Particular Plus Account   Particular Account  Current Accounts  \n",
       "1             Direct Debit  Short-term deposits  Current Accounts  \n",
       "2          Payroll Account         Direct Debit  Current Accounts  \n",
       "3  Particular Plus Account   Particular Account  Current Accounts  \n",
       "4                e-account   Particular Account  Current Accounts  \n",
       "\n",
       "[5 rows x 25 columns]"
      ]
     },
     "execution_count": 233,
     "metadata": {},
     "output_type": "execute_result"
    }
   ],
   "source": [
    "a.head()"
   ]
  },
  {
   "cell_type": "code",
   "execution_count": null,
   "metadata": {},
   "outputs": [],
   "source": []
  },
  {
   "cell_type": "code",
   "execution_count": null,
   "metadata": {},
   "outputs": [],
   "source": []
  },
  {
   "cell_type": "code",
   "execution_count": null,
   "metadata": {},
   "outputs": [],
   "source": []
  },
  {
   "cell_type": "code",
   "execution_count": null,
   "metadata": {},
   "outputs": [],
   "source": []
  },
  {
   "cell_type": "code",
   "execution_count": null,
   "metadata": {},
   "outputs": [],
   "source": []
  },
  {
   "cell_type": "code",
   "execution_count": null,
   "metadata": {},
   "outputs": [],
   "source": []
  },
  {
   "cell_type": "code",
   "execution_count": null,
   "metadata": {},
   "outputs": [],
   "source": []
  },
  {
   "cell_type": "code",
   "execution_count": null,
   "metadata": {},
   "outputs": [],
   "source": []
  },
  {
   "cell_type": "code",
   "execution_count": null,
   "metadata": {},
   "outputs": [],
   "source": [
    "for customer in list_of_prods.keys():\n",
    "    for value in customer"
   ]
  },
  {
   "cell_type": "code",
   "execution_count": 98,
   "metadata": {},
   "outputs": [
    {
     "ename": "TypeError",
     "evalue": "'numpy.int64' object is not iterable",
     "output_type": "error",
     "traceback": [
      "\u001b[1;31m---------------------------------------------------------------------------\u001b[0m",
      "\u001b[1;31mTypeError\u001b[0m                                 Traceback (most recent call last)",
      "\u001b[1;32m<ipython-input-98-f44abc9e170c>\u001b[0m in \u001b[0;36m<module>\u001b[1;34m\u001b[0m\n\u001b[0;32m      2\u001b[0m \u001b[1;33m\u001b[0m\u001b[0m\n\u001b[0;32m      3\u001b[0m \u001b[1;32mfor\u001b[0m \u001b[0mcustomer\u001b[0m \u001b[1;32min\u001b[0m \u001b[0mtest\u001b[0m\u001b[1;33m.\u001b[0m\u001b[0mkeys\u001b[0m\u001b[1;33m(\u001b[0m\u001b[1;33m)\u001b[0m\u001b[1;33m:\u001b[0m\u001b[1;33m\u001b[0m\u001b[1;33m\u001b[0m\u001b[0m\n\u001b[1;32m----> 4\u001b[1;33m     \u001b[1;32mfor\u001b[0m \u001b[0mvalue\u001b[0m \u001b[1;32min\u001b[0m \u001b[0mcustomer\u001b[0m\u001b[1;33m:\u001b[0m\u001b[1;33m\u001b[0m\u001b[1;33m\u001b[0m\u001b[0m\n\u001b[0m\u001b[0;32m      5\u001b[0m         \u001b[1;32mif\u001b[0m \u001b[0mvalue\u001b[0m \u001b[1;33m==\u001b[0m \u001b[1;36m0\u001b[0m\u001b[1;33m:\u001b[0m\u001b[1;33m\u001b[0m\u001b[1;33m\u001b[0m\u001b[0m\n\u001b[0;32m      6\u001b[0m             \u001b[0mvalue\u001b[0m \u001b[1;33m=\u001b[0m \u001b[1;34m'ind_ahor_fin_ult1'\u001b[0m\u001b[1;33m\u001b[0m\u001b[1;33m\u001b[0m\u001b[0m\n",
      "\u001b[1;31mTypeError\u001b[0m: 'numpy.int64' object is not iterable"
     ]
    }
   ],
   "source": [
    "list_of_prods = {}\n",
    "\n",
    "for customer in test.keys():\n",
    "    for value in customer:\n",
    "        if value == 0:\n",
    "            value = 'ind_ahor_fin_ult1'\n",
    "        elif value == 1:\n",
    "            value = 'ind_aval_fin_ult1'\n",
    "        elif value == 2:\n",
    "            value = 'ind_cco_fin_ult1'\n",
    "        elif value == 3:\n",
    "            value = 'ind_cder_fin_ult1'\n",
    "        elif value == 4:\n",
    "            value = 'ind_cno_fin_ult1'\n",
    "        elif value == 5:\n",
    "            value = 'ind_ctju_fin_ult1'\n",
    "        elif value == 6:\n",
    "            value = 'ind_ctma_fin_ult1'\n",
    "        elif value == 7:\n",
    "            value = 'ind_ctop_fin_ult1'\n",
    "        elif value == 8:\n",
    "            value = 'ind_ctpp_fin_ult1'\n",
    "        elif value == 9:\n",
    "            value = 'ind_deco_fin_ult1'\n",
    "        elif value == 10:\n",
    "            value = 'ind_deme_fin_ult1'\n",
    "        elif value == 11:\n",
    "            value = 'ind_dela_fin_ult1'\n",
    "        elif value == 12:\n",
    "            value = 'ind_ecue_fin_ult1'\n",
    "        elif value == 13:\n",
    "            value = 'ind_fond_fin_ult1'\n",
    "        elif value == 14:\n",
    "            value = 'ind_hip_fin_ult1'\n",
    "        elif value == 15:\n",
    "            value = 'ind_plan_fin_ult1'\n",
    "        elif value == 16:\n",
    "            value = 'ind_pres_fin_ult1'\n",
    "        elif value == 17:\n",
    "            value = 'ind_reca_fin_ult1'\n",
    "        elif value == 18:\n",
    "            value = 'ind_tjcr_fin_ult1'\n",
    "        elif value == 19:\n",
    "            value = 'ind_valo_fin_ult1'\n",
    "        elif value == 20:\n",
    "            value = 'ind_viv_fin_ult1'\n",
    "        elif value == 21:\n",
    "            value = 'ind_nomina_ult1'\n",
    "        elif value == 22:\n",
    "            value = 'ind_nom_pens_ult1'\n",
    "        elif value == 23:\n",
    "            value = 'ind_recibo_ult1' \n"
   ]
  },
  {
   "cell_type": "code",
   "execution_count": 96,
   "metadata": {},
   "outputs": [],
   "source": [
    "newlist = []\n",
    "for value in list_of_prods[15889]:\n",
    "    if value == 0:\n",
    "        value = 'ind_ahor_fin_ult1'\n",
    "    elif value == 1:\n",
    "        value = 'ind_aval_fin_ult1'\n",
    "    elif value == 2:\n",
    "        value = 'ind_cco_fin_ult1'\n",
    "    elif value == 3:\n",
    "        value = 'ind_cder_fin_ult1'\n",
    "    elif value == 4:\n",
    "        value = 'ind_cno_fin_ult1'\n",
    "    elif value == 5:\n",
    "        value = 'ind_ctju_fin_ult1'\n",
    "    elif value == 6:\n",
    "        value = 'ind_ctma_fin_ult1'\n",
    "    elif value == 7:\n",
    "        value = 'ind_ctop_fin_ult1'\n",
    "    elif value == 8:\n",
    "        value = 'ind_ctpp_fin_ult1'\n",
    "    elif value == 9:\n",
    "        value = 'ind_deco_fin_ult1'\n",
    "    elif value == 10:\n",
    "        value = 'ind_deme_fin_ult1'\n",
    "    elif value == 11:\n",
    "        value = 'ind_dela_fin_ult1'\n",
    "    elif value == 12:\n",
    "        value = 'ind_ecue_fin_ult1'\n",
    "    elif value == 13:\n",
    "        value = 'ind_fond_fin_ult1'\n",
    "    elif value == 14:\n",
    "        value = 'ind_hip_fin_ult1'\n",
    "    elif value == 15:\n",
    "        value = 'ind_plan_fin_ult1'\n",
    "    elif value == 16:\n",
    "        value = 'ind_pres_fin_ult1'\n",
    "    elif value == 17:\n",
    "        value = 'ind_reca_fin_ult1'\n",
    "    elif value == 18:\n",
    "        value = 'ind_tjcr_fin_ult1'\n",
    "    elif value == 19:\n",
    "        value = 'ind_valo_fin_ult1'\n",
    "    elif value == 20:\n",
    "        value = 'ind_viv_fin_ult1'\n",
    "    elif value == 21:\n",
    "        value = 'ind_nomina_ult1'\n",
    "    elif value == 22:\n",
    "        value = 'ind_nom_pens_ult1'\n",
    "    elif value == 23:\n",
    "        value = 'ind_recibo_ult1'   \n",
    "    newlist.append(value)\n",
    "        "
   ]
  },
  {
   "cell_type": "code",
   "execution_count": 89,
   "metadata": {},
   "outputs": [
    {
     "data": {
      "text/plain": [
       "array([14,  1, 10,  5,  9, 11, 15,  0, 22, 21,  3, 18, 13, 23, 19, 16,  4,\n",
       "       20,  6, 17, 12,  8,  7,  2], dtype=int64)"
      ]
     },
     "execution_count": 89,
     "metadata": {},
     "output_type": "execute_result"
    }
   ],
   "source": [
    "list_of_prods[15889]"
   ]
  },
  {
   "cell_type": "code",
   "execution_count": 72,
   "metadata": {},
   "outputs": [
    {
     "ename": "TypeError",
     "evalue": "unhashable type: 'numpy.ndarray'",
     "output_type": "error",
     "traceback": [
      "\u001b[1;31m---------------------------------------------------------------------------\u001b[0m",
      "\u001b[1;31mTypeError\u001b[0m                                 Traceback (most recent call last)",
      "\u001b[1;32m<ipython-input-72-1164216cc619>\u001b[0m in \u001b[0;36m<module>\u001b[1;34m\u001b[0m\n\u001b[0;32m      1\u001b[0m \u001b[0mproduct_name\u001b[0m \u001b[1;33m=\u001b[0m \u001b[1;33m{\u001b[0m\u001b[1;33m}\u001b[0m\u001b[1;33m\u001b[0m\u001b[1;33m\u001b[0m\u001b[0m\n\u001b[0;32m      2\u001b[0m \u001b[1;32mfor\u001b[0m \u001b[0mcustomer\u001b[0m \u001b[1;32min\u001b[0m \u001b[0mlist_of_prods\u001b[0m\u001b[1;33m.\u001b[0m\u001b[0mitems\u001b[0m\u001b[1;33m(\u001b[0m\u001b[1;33m)\u001b[0m\u001b[1;33m:\u001b[0m\u001b[1;33m\u001b[0m\u001b[1;33m\u001b[0m\u001b[0m\n\u001b[1;32m----> 3\u001b[1;33m     \u001b[0mproduct_name\u001b[0m\u001b[1;33m[\u001b[0m\u001b[0mcustomer\u001b[0m\u001b[1;33m]\u001b[0m \u001b[1;33m=\u001b[0m \u001b[0mlist_of_prods\u001b[0m\u001b[1;33m[\u001b[0m\u001b[0mcustomer\u001b[0m\u001b[1;33m]\u001b[0m\u001b[1;33m.\u001b[0m\u001b[0mapply\u001b[0m\u001b[1;33m(\u001b[0m\u001b[1;32mlambda\u001b[0m \u001b[0mx\u001b[0m\u001b[1;33m:\u001b[0m \u001b[0mmap_product\u001b[0m\u001b[1;33m.\u001b[0m\u001b[0mget\u001b[0m\u001b[1;33m(\u001b[0m\u001b[0mx\u001b[0m\u001b[1;33m,\u001b[0m\u001b[0mx\u001b[0m\u001b[1;33m)\u001b[0m\u001b[1;33m)\u001b[0m\u001b[1;33m\u001b[0m\u001b[1;33m\u001b[0m\u001b[0m\n\u001b[0m",
      "\u001b[1;31mTypeError\u001b[0m: unhashable type: 'numpy.ndarray'"
     ]
    }
   ],
   "source": [
    "product_name = {}\n",
    "for customer in list_of_prods.items():\n",
    "    for value in list_of_prods[customer]:\n",
    "        if value == 0:"
   ]
  },
  {
   "cell_type": "code",
   "execution_count": null,
   "metadata": {},
   "outputs": [],
   "source": [
    "X = df[used_cols].values\n",
    "y = df['ind_ahor_fin_ult1'].values\n",
    "\n",
    "encoder = TargetEncoder()\n",
    "X = encoder.fit_transform(X, y)\n",
    "model = LogisticRegression()\n",
    "model.fit(X, y)"
   ]
  }
 ],
 "metadata": {
  "kernelspec": {
   "display_name": "Python 3",
   "language": "python",
   "name": "python3"
  },
  "language_info": {
   "codemirror_mode": {
    "name": "ipython",
    "version": 3
   },
   "file_extension": ".py",
   "mimetype": "text/x-python",
   "name": "python",
   "nbconvert_exporter": "python",
   "pygments_lexer": "ipython3",
   "version": "3.7.3"
  }
 },
 "nbformat": 4,
 "nbformat_minor": 4
}
